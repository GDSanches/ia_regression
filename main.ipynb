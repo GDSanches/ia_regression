{
  "cells": [
    {
      "cell_type": "markdown",
      "metadata": {
        "id": "RecGvakndhvp"
      },
      "source": [
        "## Coletando dados\n",
        "##### Coletando dados salvos estaticamente na pasta `./data`"
      ]
    },
    {
      "cell_type": "code",
      "execution_count": 11,
      "metadata": {
        "colab": {
          "base_uri": "https://localhost:8080/",
          "height": 472
        },
        "id": "lT4ZzUQJdhvr",
        "outputId": "5cfcf6b9-2c05-4540-f44c-b0ffba85b6f3"
      },
      "outputs": [
        {
          "output_type": "display_data",
          "data": {
            "text/plain": [
              "<Figure size 640x480 with 1 Axes>"
            ],
            "image/png": "[encoded data removed]"
          },
          "metadata": {}
        }
      ],
      "source": [
        "import pandas as pd\n",
        "import seaborn as sns\n",
        "import matplotlib.pyplot as plt\n",
        "\n",
        "\n",
        "df = pd.read_csv(\"/content/data.csv\",low_memory=False)\n",
        "df1 = pd.read_csv(\"/content/processed_data.csv\")\n",
        "\n",
        "sns.boxplot(x=df1['Renda per Capita'])\n",
        "plt.title('Boxplot do Renda')\n",
        "plt.show()"
      ]
    },
    {
      "cell_type": "markdown",
      "metadata": {
        "id": "Ic1onEcfdhvt"
      },
      "source": [
        "## Convertendo valor de renda per capita para numérico\n",
        "##### Extraindo os valores de `Renda Per Capita`, transformando de categorico para numerico, atraves da media entre o menor e o maior valor."
      ]
    },
    {
      "cell_type": "code",
      "execution_count": 6,
      "metadata": {
        "id": "2T9nZsjedhvu"
      },
      "outputs": [],
      "source": [
        "import re\n",
        "import numpy as np\n",
        "\n",
        "def convert_renda_per_capita(value):\n",
        "    if isinstance(value, str):\n",
        "        match = re.match(r\"(\\d+,\\d+|\\d+) Sm < Rfp <= (\\d+,\\d+|\\d+) Sm\", value)\n",
        "        if match:\n",
        "            lower_bound = float(match.group(1).replace(\",\", \".\"))\n",
        "            upper_bound = float(match.group(2).replace(\",\", \".\"))\n",
        "            return (lower_bound + upper_bound) / 2\n",
        "    return np.nan\n",
        "\n",
        "df[\"Renda per Capita\"] = df[\"Renda per Capita\"].apply(convert_renda_per_capita)"
      ]
    },
    {
      "cell_type": "markdown",
      "metadata": {
        "id": "c0zD-I5kdhvv"
      },
      "source": [
        "## Pré-processando valores nulos\n",
        "##### Processando valores nulos, para valores categoricos atribuir categoria `Desconhecido`, para variaveis numericas, tirando `Renda Per Capita`, atribuimos a media dos valores daquela coluna. Para fins de desenvolvimento, salvamos os dados processados na pasta `./data/processed_data.csv`\n"
      ]
    },
    {
      "cell_type": "code",
      "execution_count": 8,
      "metadata": {
        "colab": {
          "base_uri": "https://localhost:8080/"
        },
        "id": "DjtTxe1Wdhvv",
        "outputId": "1a7af5b6-c981-4425-8702-91ebf44be7b1"
      },
      "outputs": [
        {
          "output_type": "stream",
          "name": "stdout",
          "text": [
            "Dados processados salvos em: /content/processed_data.csv\n"
          ]
        }
      ],
      "source": [
        "def pre_process(df):\n",
        "    for coluna in df.columns:\n",
        "        if df[coluna].dtype in [\"float64\", \"int64\"]:\n",
        "            if coluna != \"Renda per Capita\":\n",
        "                df[coluna] = df[coluna].fillna(df[coluna].mean())\n",
        "        elif df[coluna].dtype == \"object\":\n",
        "            df[coluna] = df[coluna].fillna(\"Desconhecido\")\n",
        "\n",
        "    return df\n",
        "\n",
        "df = pre_process(df)\n",
        "\n",
        "output_path = '/content/processed_data.csv'\n",
        "df.to_csv(output_path, index=False)\n",
        "print(f\"Dados processados salvos em: {output_path}\")"
      ]
    },
    {
      "cell_type": "markdown",
      "metadata": {
        "id": "zG584tTxdhvw"
      },
      "source": [
        "## Tratando outliers\n",
        "##### Através do modelo `isolation-florest`, conseguimos extrair os padrões dos dados do nosso dataset, e através desse padrao conseguimos dizer se um certo valor está dentro do padrão ou não, atribuindo um score que é analisado pelo modelo, e de acordo com a contaminação estabelecida e o padrão dos demais scores, deleta ou mantem o valor em questão. Para fins de desenvolvimento, salvamos os dados tratados na pasta `./data/cleaned_data.csv`"
      ]
    },
    {
      "cell_type": "code",
      "execution_count": null,
      "metadata": {
        "id": "tMr4CtEZdhvw"
      },
      "outputs": [],
      "source": [
        "from sklearn.ensemble import IsolationForest\n",
        "\n",
        "def remove_outliers(df):\n",
        "    isolation_forest = IsolationForest(contamination=0.05)\n",
        "\n",
        "    numeric_columns = df.select_dtypes(include=[np.number]).columns\n",
        "    df_numeric = df[numeric_columns]\n",
        "\n",
        "    outliers = isolation_forest.fit_predict(df_numeric)\n",
        "\n",
        "    df_cleaned = df[outliers == 1]\n",
        "\n",
        "    return df_cleaned\n",
        "\n",
        "df = remove_outliers(df)\n",
        "df.to_csv('./data/cleaned_data.csv',index=False)"
      ]
    },
    {
      "cell_type": "markdown",
      "metadata": {
        "id": "cwi8Rp7ndhvw"
      },
      "source": [
        "## Transformando os dados\n",
        "##### Nessa etapa, fazemos uma mistura de técnicas de transformação de dados, como `one-hot-encoding` e `tfidf` para transformar as variaveis categoricas em variaveis numéricas."
      ]
    },
    {
      "cell_type": "code",
      "execution_count": null,
      "metadata": {
        "id": "dTypzDrxdhvx"
      },
      "outputs": [],
      "source": []
    },
    {
      "cell_type": "markdown",
      "metadata": {
        "id": "S1jHUHXZdhvx"
      },
      "source": [
        "## Treinamento com modelos de regressão\n",
        "##### Essa etapa consiste em fazer o split do nosso dataset, em dados de treino e de teste, e realizar o treinamento dos nossos dados com o modelo de `linear-regression` e `decision-tree-regression`"
      ]
    },
    {
      "cell_type": "code",
      "execution_count": null,
      "metadata": {
        "id": "LS-39sF9dhvx"
      },
      "outputs": [],
      "source": []
    },
    {
      "cell_type": "markdown",
      "metadata": {
        "id": "okPw9bF4dhvy"
      },
      "source": [
        "## Aplicando testes\n",
        "##### Nessa etapa, iremos aplicar os testes, e ver como os nossos dados se comportaram diante os dois modelos utilizados, e analisar caracteristicas como viés e variância dos nossos dados, bem como o resultado dos nossos modelos de regressão"
      ]
    },
    {
      "cell_type": "code",
      "execution_count": null,
      "metadata": {
        "id": "HorpnLjOdhvy"
      },
      "outputs": [],
      "source": []
    }
  ],
  "metadata": {
    "kernelspec": {
      "display_name": "Python 3",
      "language": "python",
      "name": "python3"
    },
    "language_info": {
      "codemirror_mode": {
        "name": "ipython",
        "version": 3
      },
      "file_extension": ".py",
      "mimetype": "text/x-python",
      "name": "python",
      "nbconvert_exporter": "python",
      "pygments_lexer": "ipython3",
      "version": "3.13.0"
    },
    "colab": {
      "provenance": []
    }
  },
  "nbformat": 4,
  "nbformat_minor": 0
}