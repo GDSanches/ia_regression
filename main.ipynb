{
  "cells": [
    {
      "cell_type": "markdown",
      "metadata": {
        "id": "OgYLu5_dhQcp"
      },
      "source": [
        "## Coletando dados\n",
        "##### Coletando dados salvos estaticamente na pasta `./data`"
      ]
    },
    {
      "cell_type": "code",
      "execution_count": null,
      "metadata": {
        "id": "OCD8BSU5hQcp"
      },
      "outputs": [],
      "source": [
        "import pandas as pd\n",
        "\n",
        "df = pd.read_csv(\"/content/data.csv\",low_memory=False)\n"
      ]
    },
    {
      "cell_type": "markdown",
      "metadata": {
        "id": "nrmOwZ8PhQcq"
      },
      "source": [
        "## Convertendo valor de renda per capita para numérico\n",
        "##### Extraindo os valores de `Renda Per Capita`, transformando de categorico para numerico, atraves da media entre o menor e o maior valor."
      ]
    },
    {
      "cell_type": "code",
      "execution_count": 4,
      "metadata": {
        "id": "yW8D_LdjhQcq"
      },
      "outputs": [],
      "source": [
        "import re\n",
        "import numpy as np\n",
        "\n",
        "def convert_renda_per_capita(value):\n",
        "    if isinstance(value, str):\n",
        "        match = re.match(r\"(\\d+,\\d+|\\d+) Sm < Rfp <= (\\d+,\\d+|\\d+) Sm\", value)\n",
        "        if match:\n",
        "            lower_bound = float(match.group(1).replace(\",\", \".\"))\n",
        "            upper_bound = float(match.group(2).replace(\",\", \".\"))\n",
        "            return (lower_bound + upper_bound) / 2\n",
        "    return np.nan\n",
        "\n",
        "df[\"Renda per Capita\"] = df[\"Renda per Capita\"].apply(convert_renda_per_capita)"
      ]
    },
    {
      "cell_type": "markdown",
      "metadata": {
        "id": "pXqrFwmdhQcq"
      },
      "source": [
        "## Pré-processando valores nulos\n",
        "##### Processando valores nulos, para valores categoricos atribuir categoria `Desconhecido`, para variaveis numericas, tirando `Renda Per Capita`, atribuimos a media dos valores daquela coluna. Para fins de desenvolvimento, salvamos os dados processados na pasta `./data/processed_data.csv`\n"
      ]
    },
    {
      "cell_type": "code",
      "execution_count": 5,
      "metadata": {
        "id": "fKhMLAPYhQcq"
      },
      "outputs": [],
      "source": [
        "def pre_process(df) -> pd.DataFrame:\n",
        "    df = df.copy()\n",
        "    for coluna in df.columns:\n",
        "        if df[coluna].dtype in [\"float64\", \"int64\"]:\n",
        "            if coluna == \"Renda per Capita\":\n",
        "                df = df[df[\"Renda per Capita\"].notnull() & (df[\"Renda per Capita\"] != \"\")]\n",
        "            df[coluna] = df[coluna].fillna(df[coluna].mean())\n",
        "        elif df[coluna].dtype == \"object\":\n",
        "                df[coluna] = df[coluna].apply(\n",
        "                    lambda x: \"Desconhecido\" if coluna != \"Sexo\" and (pd.isna(x) or len(str(x)) < 3) else x\n",
        "                )\n",
        "    return df\n",
        "\n",
        "df = pre_process(df)\n",
        "df.to_csv('/content/processed_data.csv', index=False)"
      ]
    },
    {
      "cell_type": "markdown",
      "metadata": {
        "id": "Nr0KFa9XhQcr"
      },
      "source": [
        "## Tratando outliers\n",
        "##### Através do modelo `isolation-florest`, conseguimos extrair os padrões dos dados do nosso dataset, e através desse padrao conseguimos dizer se um certo valor está dentro do padrão ou não, atribuindo um score que é analisado pelo modelo, e de acordo com a contaminação estabelecida e o padrão dos demais scores, deleta ou mantem o valor em questão. Para fins de desenvolvimento, salvamos os dados tratados na pasta `./data/cleaned_data.csv`"
      ]
    },
    {
      "cell_type": "code",
      "execution_count": 6,
      "metadata": {
        "id": "HdeGpJgohQcr"
      },
      "outputs": [],
      "source": [
        "from sklearn.ensemble import IsolationForest\n",
        "\n",
        "def remove_outliers(df):\n",
        "    isolation_forest = IsolationForest(contamination=0.05)\n",
        "\n",
        "    numeric_columns = df.select_dtypes(include=[np.number]).columns\n",
        "    df_numeric = df[numeric_columns]\n",
        "\n",
        "    outliers = isolation_forest.fit_predict(df_numeric)\n",
        "\n",
        "    df_cleaned = df[outliers == 1]\n",
        "\n",
        "    return df_cleaned\n",
        "\n",
        "df = remove_outliers(df)\n",
        "df.to_csv('/content/cleaned_data.csv',index=False)"
      ]
    },
    {
      "cell_type": "markdown",
      "metadata": {
        "id": "qaaARj44hQcr"
      },
      "source": [
        "## Definindo features e o target\n",
        "##### Definindo de forma estatica as colunas que serão as features usadas nos modelos de regressão, bem como a coluna alvo."
      ]
    },
    {
      "cell_type": "code",
      "execution_count": 7,
      "metadata": {
        "id": "qn-eKWMmhQcr"
      },
      "outputs": [],
      "source": [
        "categorical_columns = [\n",
        "        \"Modalidade do Curso\",\n",
        "        \"Tipo do Curso\",\n",
        "        \"Sexo\",\n",
        "        \"Etnia\",\n",
        "        \"Área do Curso\",\n",
        "]\n",
        "numeric_columns = [\n",
        "        \"Idade de Entrada\",\n",
        "        \"Periodo de Ingresso\",\n",
        "]\n",
        "\n",
        "target_column = \"Renda per Capita\""
      ]
    },
    {
      "cell_type": "markdown",
      "metadata": {
        "id": "O29v5DXBhQcr"
      },
      "source": [
        "## Transformando os dados\n",
        "##### Nessa etapa, fazemos uma mistura de técnicas de transformação de dados, como `one-hot-encoding` para transformar as variaveis categoricas em variaveis numéricas."
      ]
    },
    {
      "cell_type": "code",
      "execution_count": null,
      "metadata": {
        "id": "7O4mY6CfhQcr"
      },
      "outputs": [],
      "source": [
        "from sklearn.preprocessing import OneHotEncoder\n",
        "\n",
        "def transform_data(df: pd.DataFrame) -> pd.DataFrame:\n",
        "    X_categorical = df[categorical_columns]\n",
        "    X_additional = df[numeric_columns]\n",
        "    y = df[target_column]\n",
        "\n",
        "    encoder = OneHotEncoder(drop='first', sparse_output=False, handle_unknown='ignore')\n",
        "    X_encoded = encoder.fit_transform(X_categorical)\n",
        "\n",
        "    X_encoded_df = pd.DataFrame(X_encoded, columns=encoder.get_feature_names_out(categorical_columns), index=df.index)\n",
        "\n",
        "    df_encoded = pd.concat([X_encoded_df, X_additional, y], axis=1)\n",
        "\n",
        "    return df_encoded\n",
        "\n",
        "\n",
        "df = transform_data(df)\n",
        "df.to_csv('/content/encoded_data.csv',index=False)\n",
        "\n"
      ]
    },
    {
      "cell_type": "markdown",
      "metadata": {
        "id": "HzJ5ch2khQcr"
      },
      "source": [
        "## Separando dataset\n",
        "##### Nessa etapa, estamos separando os nossos dados, divindo entre treino e teste. Nesse caso foi utilizado 70% dos dados para treino e 30% para teste. A biblioteca utilizada foi `sklearn.model_selection` com a funcao `train_test_split`"
      ]
    },
    {
      "cell_type": "code",
      "execution_count": null,
      "metadata": {
        "id": "TZ7ayu5LhQcr"
      },
      "outputs": [],
      "source": [
        "from sklearn.model_selection import train_test_split\n",
        "\n",
        "X = df.drop(columns=[target_column])\n",
        "y = df[target_column]\n",
        "\n",
        "X_train, X_test, y_train, y_test = train_test_split(X, y, test_size=0.3, random_state=42)"
      ]
    },
    {
      "cell_type": "markdown",
      "metadata": {
        "id": "UFUhqUiEhQcr"
      },
      "source": [
        "## Treinamento com modelos de regressão\n",
        "##### Essa etapa consiste em fazer o split do nosso dataset, em dados de treino e de teste, e realizar o treinamento dos nossos dados com o modelo de `linear-regression` e `decision-tree-regression`, ambos da biblioteca `sklearn`"
      ]
    },
    {
      "cell_type": "code",
      "execution_count": null,
      "metadata": {
        "id": "mP4CNr2fhQcr"
      },
      "outputs": [],
      "source": [
        "from sklearn.linear_model import LinearRegression\n",
        "from sklearn.tree import DecisionTreeRegressor\n",
        "\n",
        "linear_model = LinearRegression()\n",
        "linear_model.fit(X_train, y_train)\n",
        "\n",
        "y_pred_linear = linear_model.predict(X_test)\n",
        "\n",
        "tree_model = DecisionTreeRegressor(random_state=42)\n",
        "tree_model.fit(X_train, y_train)\n",
        "\n",
        "y_pred_tree = tree_model.predict(X_test)\n"
      ]
    },
    {
      "cell_type": "markdown",
      "metadata": {
        "id": "r9AG3eERhQcr"
      },
      "source": [
        "## Aplicando testes\n",
        "##### Nessa etapa, iremos aplicar os testes, e ver como os nossos dados se comportaram diante os dois modelos utilizados, e analisar caracteristicas como viés e variância dos nossos dados, bem como o resultado dos nossos modelos de regressão"
      ]
    },
    {
      "cell_type": "code",
      "execution_count": null,
      "metadata": {
        "id": "trT4KGK3hQcr",
        "outputId": "95f17a3e-dc37-4f34-d308-d79eef73d1a3"
      },
      "outputs": [
        {
          "name": "stdout",
          "output_type": "stream",
          "text": [
            "Linear Regression - Training RMSE: 0.588270084436523\n",
            "Linear Regression - Test RMSE: 0.5867423634123605\n",
            "Decision Tree - Training RMSE: 0.45946471779032466\n",
            "Decision Tree - Test RMSE: 0.6795234476367422\n",
            "Linear Regression - Bias: 0.3456047509115763\n",
            "Linear Regression - Variance: 0.34418656169129\n",
            "Linear Regression - Error: 0.0014181892202862194\n",
            "Decision Tree - Bias: 0.5028198439096646\n",
            "Decision Tree - Variance: 0.3862990742573743\n",
            "Decision Tree - Error: 0.11652076965229022\n"
          ]
        }
      ],
      "source": [
        "from sklearn.metrics import mean_squared_error\n",
        "from mlxtend.evaluate import bias_variance_decomp\n",
        "import numpy as np\n",
        "\n",
        "def rmse(y_true, y_pred):\n",
        "    return np.sqrt(mean_squared_error(y_true, y_pred))\n",
        "\n",
        "rmse_linear_test = rmse(y_test, y_pred_linear)\n",
        "rmse_linear_train = rmse(y_train, linear_model.predict(X_train))\n",
        "\n",
        "rmse_tree_test = rmse(y_test, y_pred_tree)\n",
        "rmse_tree_train = rmse(y_train, tree_model.predict(X_train))\n",
        "\n",
        "print(f\"Linear Regression - Training RMSE: {rmse_linear_train}\")\n",
        "print(f\"Linear Regression - Test RMSE: {rmse_linear_test}\")\n",
        "print(f\"Decision Tree - Training RMSE: {rmse_tree_train}\")\n",
        "print(f\"Decision Tree - Test RMSE: {rmse_tree_test}\")\n",
        "\n",
        "linear_bias, linear_variance, linear_error = bias_variance_decomp(linear_model, X_train.to_numpy(), y_train.to_numpy(), X_test.to_numpy(), y_test.to_numpy(),random_seed=123, loss='mse')\n",
        "\n",
        "tree_bias, tree_variance, tree_error = bias_variance_decomp(tree_model, X_train.to_numpy(), y_train.to_numpy(), X_test.to_numpy(), y_test.to_numpy(),random_seed=123, loss='mse')\n",
        "\n",
        "print(f\"Linear Regression - Bias: {linear_bias}\")\n",
        "print(f\"Linear Regression - Variance: {linear_variance}\")\n",
        "print(f\"Linear Regression - Error: {linear_error}\")\n",
        "\n",
        "print(f\"Decision Tree - Bias: {tree_bias}\")\n",
        "print(f\"Decision Tree - Variance: {tree_variance}\")\n",
        "print(f\"Decision Tree - Error: {tree_error}\")\n"
      ]
    },
    {
      "cell_type": "markdown",
      "metadata": {
        "id": "ydKTyhWMhQcs"
      },
      "source": [
        "## Plotando gráficos para visualização\n",
        "##### Nessa etapa, iremos pegar os dados dos testes, e plotando, com fim de analisar de forma mais visual o que foi extraido."
      ]
    },
    {
      "cell_type": "code",
      "execution_count": null,
      "metadata": {
        "id": "yXX8hfBYhQcs"
      },
      "outputs": [],
      "source": [
        "import matplotlib.pyplot as plt\n",
        "import seaborn as sns\n",
        "from sklearn.model_selection import learning_curve\n",
        "\n",
        "\n",
        "# Gráfico de Distribuição dos Erros\n",
        "residuals_linear = y_test - y_pred_linear\n",
        "residuals_tree = y_test - y_pred_tree\n",
        "\n",
        "plt.figure(figsize=(8, 6))\n",
        "sns.histplot(residuals_linear, kde=True, color=\"blue\", label=\"Linear Regression\")\n",
        "sns.histplot(residuals_tree, kde=True, color=\"green\", label=\"Decision Tree\", alpha=0.7)\n",
        "plt.xlabel(\"Erro (Resíduo)\")\n",
        "plt.title(\"Distribuição dos Erros\")\n",
        "plt.legend()\n",
        "plt.show()\n",
        "\n",
        "\n",
        "# Gráfico de Viés e Variância\n",
        "models = [\"Linear Regression\", \"Decision Tree\"]\n",
        "bias = [linear_bias, tree_bias]\n",
        "variance = [linear_variance, tree_variance]\n",
        "error = [linear_error, tree_error]\n",
        "\n",
        "x = range(len(models))\n",
        "width = 0.2\n",
        "\n",
        "plt.figure(figsize=(8, 6))\n",
        "plt.bar(x, bias, width=width, label=\"Bias\", color=\"blue\")\n",
        "plt.bar([p + width for p in x], variance, width=width, label=\"Variance\", color=\"orange\")\n",
        "plt.bar([p + width * 2 for p in x], error, width=width, label=\"Error\", color=\"green\")\n",
        "\n",
        "plt.xlabel(\"Modelos\")\n",
        "plt.ylabel(\"Valores\")\n",
        "plt.title(\"Bias, Variance e Error por Modelo\")\n",
        "plt.xticks([p + width for p in x], models)\n",
        "plt.legend()\n",
        "#plt.show()\n",
        "\n",
        "\n",
        "# Learning Curve (Curva de Aprendizado)\n",
        "train_sizes, train_scores, test_scores = learning_curve(\n",
        "    linear_model, X_train, y_train, cv=5, scoring=\"neg_mean_squared_error\", n_jobs=-1\n",
        ")\n",
        "\n",
        "train_scores_mean = -np.mean(train_scores, axis=1)\n",
        "train_scores_std = np.std(train_scores, axis=1)\n",
        "test_scores_mean = -np.mean(test_scores, axis=1)\n",
        "test_scores_std = np.std(test_scores, axis=1)\n",
        "\n",
        "plt.figure(figsize=(10, 6))\n",
        "plt.title(\"Curva de Aprendizado - Linear Regression\")\n",
        "plt.xlabel(\"Tamanho do Conjunto de Treinamento\")\n",
        "plt.ylabel(\"Erro Médio Quadrado (MSE)\")\n",
        "plt.grid()\n",
        "\n",
        "plt.fill_between(\n",
        "    train_sizes,\n",
        "    train_scores_mean - train_scores_std,\n",
        "    train_scores_mean + train_scores_std,\n",
        "    alpha=0.1,\n",
        "    color=\"r\",\n",
        ")\n",
        "plt.fill_between(\n",
        "    train_sizes,\n",
        "    test_scores_mean - test_scores_std,\n",
        "    test_scores_mean + test_scores_std,\n",
        "    alpha=0.1,\n",
        "    color=\"g\",\n",
        ")\n",
        "\n",
        "plt.plot(train_sizes, train_scores_mean, \"o-\", color=\"r\", label=\"Erro de Treinamento\")\n",
        "plt.plot(train_sizes, test_scores_mean, \"o-\", color=\"g\", label=\"Erro de Teste\")\n",
        "\n",
        "plt.legend(loc=\"best\")\n",
        "plt.show()\n",
        "\n",
        "\n"
      ]
    }
  ],
  "metadata": {
    "colab": {
      "provenance": []
    },
    "kernelspec": {
      "display_name": "Python 3",
      "language": "python",
      "name": "python3"
    },
    "language_info": {
      "codemirror_mode": {
        "name": "ipython",
        "version": 3
      },
      "file_extension": ".py",
      "mimetype": "text/x-python",
      "name": "python",
      "nbconvert_exporter": "python",
      "pygments_lexer": "ipython3",
      "version": "3.13.0"
    }
  },
  "nbformat": 4,
  "nbformat_minor": 0
}
